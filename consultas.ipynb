{
 "cells": [
  {
   "cell_type": "code",
   "execution_count": 1,
   "metadata": {},
   "outputs": [
    {
     "name": "stdout",
     "output_type": "stream",
     "text": [
      "Gêneros únicos encontrados no XML:\n",
      "Action\n",
      "Adventure\n",
      "Biography\n",
      "Comedy\n",
      "Crime\n",
      "Drama\n",
      "Family\n",
      "Fantasy\n",
      "Film-Noir\n",
      "History\n",
      "Horror\n",
      "Music\n",
      "Musical\n",
      "Mystery\n",
      "Romance\n",
      "Sci-Fi\n",
      "Sport\n",
      "Thriller\n",
      "War\n",
      "Western\n",
      "Action\n",
      "Adventure\n",
      "Animation\n",
      "Biography\n",
      "Comedy\n",
      "Crime\n",
      "Drama\n",
      "Family\n",
      "Fantasy\n",
      "Film-Noir\n",
      "History\n",
      "Horror\n",
      "Music\n",
      "Musical\n",
      "Mystery\n",
      "Romance\n",
      "Sci-Fi\n",
      "Thriller\n",
      "War\n",
      "Western\n",
      "\n",
      "Total de gêneros únicos: 40\n"
     ]
    }
   ],
   "source": [
    "import xml.etree.ElementTree as ET\n",
    "\n",
    "def get_unique_genres(xml_file):\n",
    "    tree = ET.parse(xml_file)  # Carrega o arquivo XML\n",
    "    root = tree.getroot()\n",
    "\n",
    "    genres = set()  # Usamos um set para garantir que os valores sejam únicos\n",
    "\n",
    "    for row in root.findall('row'):  # Percorre cada linha (filme) no XML\n",
    "        genre = row.find('Genre').text  # Extrai o gênero\n",
    "        if genre:\n",
    "            genres.update(genre.split(','))  # Adiciona os gêneros, separando por vírgula se houver múltiplos gêneros\n",
    "\n",
    "    return sorted(genres)  # Retorna os gêneros ordenados\n",
    "\n",
    "# Exemplo de uso:\n",
    "xml_file = 'imdb_top10k.xml'  # Nome do arquivo XML\n",
    "unique_genres = get_unique_genres(xml_file)\n",
    "\n",
    "print(\"Gêneros únicos encontrados no XML:\")\n",
    "for genre in unique_genres:\n",
    "    print(genre.strip())  # Remove espaços em branco ao redor dos gêneros\n",
    "\n",
    "print(f\"\\nTotal de gêneros únicos: {len(unique_genres)}\")"
   ]
  }
 ],
 "metadata": {
  "kernelspec": {
   "display_name": "Python 3",
   "language": "python",
   "name": "python3"
  },
  "language_info": {
   "codemirror_mode": {
    "name": "ipython",
    "version": 3
   },
   "file_extension": ".py",
   "mimetype": "text/x-python",
   "name": "python",
   "nbconvert_exporter": "python",
   "pygments_lexer": "ipython3",
   "version": "3.12.7"
  },
  "orig_nbformat": 4
 },
 "nbformat": 4,
 "nbformat_minor": 2
}
